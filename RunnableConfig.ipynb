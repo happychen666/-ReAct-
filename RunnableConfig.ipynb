{
 "cells": [
  {
   "cell_type": "code",
   "execution_count": 3,
   "id": "ac4369a5",
   "metadata": {},
   "outputs": [
    {
     "name": "stdout",
     "output_type": "stream",
     "text": [
      "\n",
      "[回调] 执行任务: Hello World\n",
      "[回调] 任务标签 (tags): ['text-processing', 'pipeline']\n",
      "[回调] 任务元数据 (metadata): {'author': 'user', 'version': '1.0'}\n",
      "\n",
      "[Step 1] 转换为小写: hello world\n",
      "\n",
      "[回调] 执行任务: hello world\n",
      "[回调] 任务标签 (tags): ['text-processing', 'pipeline']\n",
      "[回调] 任务元数据 (metadata): {'author': 'user', 'version': '1.0'}\n",
      "\n",
      "[Step 2] 去掉空格: helloworld\n",
      "\n",
      "[回调] 执行任务: helloworld\n",
      "[回调] 任务标签 (tags): ['text-processing', 'pipeline']\n",
      "[回调] 任务元数据 (metadata): {'author': 'user', 'version': '1.0'}\n",
      "\n",
      "[Step 3] 反转字符串: dlrowolleh\n",
      "\n",
      "最终结果: dlrowolleh\n"
     ]
    }
   ],
   "source": [
    "import time\n",
    "from langchain_core.runnables import RunnableLambda, RunnableConfig\n",
    "\n",
    "# 🚀 自定义回调函数，打印 config 里的 tags 和 metadata\n",
    "def custom_callback(input_text, config: dict):\n",
    "    print(f\"\\n[回调] 执行任务: {input_text}\")\n",
    "    # 使用字典访问方式获取 tags 和 metadata\n",
    "    print(f\"[回调] 任务标签 (tags): {config.get('tags', '未提供')}\")\n",
    "    print(f\"[回调] 任务元数据 (metadata): {config.get('metadata', '未提供')}\\n\")\n",
    "\n",
    "\n",
    "# 🚀 任务 1：转换为小写\n",
    "def to_lowercase(text: str, config: RunnableConfig):\n",
    "    custom_callback(text, config)  # 调用回调函数，打印 config 信息\n",
    "    print(\"[Step 1] 转换为小写:\", text.lower())\n",
    "    return text.lower()\n",
    "\n",
    "# 🚀 任务 2：去掉空格\n",
    "def remove_spaces(text: str, config: RunnableConfig):\n",
    "    custom_callback(text, config)\n",
    "    print(\"[Step 2] 去掉空格:\", text.replace(\" \", \"\"))\n",
    "    return text.replace(\" \", \"\")\n",
    "\n",
    "# 🚀 任务 3：反转字符串\n",
    "def reverse_text(text: str, config: RunnableConfig):\n",
    "    custom_callback(text, config)\n",
    "    print(\"[Step 3] 反转字符串:\", text[::-1])\n",
    "    return text[::-1]\n",
    "\n",
    "# 🚀 创建 Runnables\n",
    "step1_runnable = RunnableLambda(to_lowercase)\n",
    "step2_runnable = RunnableLambda(remove_spaces)\n",
    "step3_runnable = RunnableLambda(reverse_text)\n",
    "\n",
    "# 🚀 任务流水线\n",
    "def text_pipeline(text: str, config: RunnableConfig):\n",
    "    step1_result = step1_runnable.invoke(text, config=config)\n",
    "    step2_result = step2_runnable.invoke(step1_result, config=config)\n",
    "    step3_result = step3_runnable.invoke(step2_result, config=config)\n",
    "    return step3_result\n",
    "\n",
    "pipeline_runnable = RunnableLambda(text_pipeline)\n",
    "\n",
    "# 🚀 定义 RunnableConfig，包含 tags 和 metadata\n",
    "config = RunnableConfig(\n",
    "    tags=[\"text-processing\", \"pipeline\"],  # 任务标签\n",
    "    metadata={\"author\": \"user\", \"version\": \"1.0\"}  # 任务额外信息\n",
    ")\n",
    "\n",
    "# 🚀 执行任务\n",
    "result = pipeline_runnable.invoke(\"Hello World\", config=config)\n",
    "\n",
    "# 🚀 输出最终结果\n",
    "print(\"\\n最终结果:\", result)\n"
   ]
  },
  {
   "cell_type": "code",
   "execution_count": 20,
   "id": "2ba874a7",
   "metadata": {},
   "outputs": [
    {
     "name": "stdout",
     "output_type": "stream",
     "text": [
      "timeout=== 2\n",
      "任务正在执行...\n",
      "任务正在执行...\n",
      "出错了=== TimeoutError任务超时！\n"
     ]
    }
   ],
   "source": [
    "from langchain_core.runnables import RunnableLambda, RunnableConfig\n",
    "import time\n",
    "\n",
    "# 定义一个带有超时控制的任务\n",
    "def slow_task(input_text, config):\n",
    "    # 从 \"configurable\" 子字典中获取 timeout 参数\n",
    "    timeout = config.get(\"configurable\", {}).get(\"timeout\", 5)\n",
    "    print('timeout===', timeout)\n",
    "    start_time = time.time()\n",
    "    \n",
    "    # 假设任务执行时间5s\n",
    "    while time.time() - start_time < 5: \n",
    "        time.sleep(1)  # 模拟任务执行中\n",
    "        print(\"任务正在执行...\")\n",
    "    \n",
    "        if time.time() - start_time >= timeout:\n",
    "            raise TimeoutError(\"TimeoutError任务超时！\")\n",
    "    \n",
    "    return input_text.upper()\n",
    "\n",
    "task_runnable = RunnableLambda(slow_task)\n",
    "\n",
    "# 设置配置，传递超时参数到 \"configurable\" 字段\n",
    "config = RunnableConfig(configurable={\"timeout\": 2})\n",
    "\n",
    "try:\n",
    "    result = task_runnable.invoke(\"hello\", config=config)\n",
    "    print('result===',result)\n",
    "except TimeoutError as e:\n",
    "    print('出错了===',e)\n"
   ]
  },
  {
   "cell_type": "code",
   "execution_count": null,
   "id": "bdf8810c",
   "metadata": {},
   "outputs": [],
   "source": []
  }
 ],
 "metadata": {
  "kernelspec": {
   "display_name": "Python (env-name)",
   "language": "python",
   "name": "env-name"
  },
  "language_info": {
   "codemirror_mode": {
    "name": "ipython",
    "version": 3
   },
   "file_extension": ".py",
   "mimetype": "text/x-python",
   "name": "python",
   "nbconvert_exporter": "python",
   "pygments_lexer": "ipython3",
   "version": "3.10.16"
  }
 },
 "nbformat": 4,
 "nbformat_minor": 5
}
